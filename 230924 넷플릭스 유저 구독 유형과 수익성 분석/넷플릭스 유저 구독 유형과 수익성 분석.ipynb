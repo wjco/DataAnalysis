{
 "cells": [
  {
   "cell_type": "markdown",
   "id": "c7d03e80",
   "metadata": {},
   "source": [
    "# 넷플릭스 유저 구독 유형과 수익성 분석\n",
    "- 분석일: 2023.09.24"
   ]
  },
  {
   "cell_type": "markdown",
   "id": "7e7d127f",
   "metadata": {},
   "source": [
    "## 목차\n",
    "\n",
    "1. [개요](#1.-개요)\n",
    "\n",
    "\n",
    "2. [데이터 로딩 및 탐색](#2.-데이터-로딩-및-탐색)\n",
    "\n",
    "\n",
    "3. [구독 유형에 따른 수익 합계](#3.-구독-유형에-따른-수익-합계)\n",
    "\n",
    "\n",
    "4. [구독 유형에 따른 결제 당 수익](#4.-구독-유형에-따른-결제-당-수익)\n",
    "\n",
    "\n",
    "5. [국가 별 구독 유형에 따른 수익성](#5.-국가-별-구독-유형에-따른-수익성)\n",
    "\n",
    "\t5-1. [가입자 수](#5-1.-가입자-수)\n",
    "\n",
    "\t5-2. [수익 합계](#5-2.-수익-합계)\n",
    "\n",
    "\t5-3. [수익률 당 가입자 수](#5-3.-수익률-당-가입자-수)\n",
    "\n",
    "\n",
    "6. [후기](#6.-후기)"
   ]
  },
  {
   "cell_type": "markdown",
   "id": "89f13cd7",
   "metadata": {},
   "source": [
    "## 1. 개요\n",
    "\n",
    "- 분석 목적: 넷플리스 유저 데이터로부터 **구독 유형에 따른 수익성**을 분석하여 앞으로의 방향성 설정\n",
    "- 분석 대상: Netflix Userbase Dataset\n",
    "    - https://www.kaggle.com/datasets/arnavsmayan/netflix-userbase-dataset?resource=download\n",
    "    - 넷플릭스 다양한 국가의 유저 구독 정보를 담은 데이터\n",
    "- 분석 방법: 시각화를 통한 인사이트 도출"
   ]
  },
  {
   "cell_type": "markdown",
   "id": "222bce60",
   "metadata": {},
   "source": [
    "## 2. 데이터 로딩 및 탐색"
   ]
  },
  {
   "cell_type": "code",
   "execution_count": 12,
   "id": "0a8b0fee",
   "metadata": {
    "ExecuteTime": {
     "end_time": "2023-09-24T04:07:17.722776Z",
     "start_time": "2023-09-24T04:07:16.174402Z"
    }
   },
   "outputs": [
    {
     "data": {
      "text/html": [
       "<div>\n",
       "<style scoped>\n",
       "    .dataframe tbody tr th:only-of-type {\n",
       "        vertical-align: middle;\n",
       "    }\n",
       "\n",
       "    .dataframe tbody tr th {\n",
       "        vertical-align: top;\n",
       "    }\n",
       "\n",
       "    .dataframe thead th {\n",
       "        text-align: right;\n",
       "    }\n",
       "</style>\n",
       "<table border=\"1\" class=\"dataframe\">\n",
       "  <thead>\n",
       "    <tr style=\"text-align: right;\">\n",
       "      <th></th>\n",
       "      <th>Subscription Type</th>\n",
       "      <th>Monthly Revenue</th>\n",
       "      <th>Join Date</th>\n",
       "      <th>Last Payment Date</th>\n",
       "      <th>Country</th>\n",
       "      <th>Age</th>\n",
       "      <th>Gender</th>\n",
       "      <th>Device</th>\n",
       "      <th>Plan Duration</th>\n",
       "    </tr>\n",
       "    <tr>\n",
       "      <th>User ID</th>\n",
       "      <th></th>\n",
       "      <th></th>\n",
       "      <th></th>\n",
       "      <th></th>\n",
       "      <th></th>\n",
       "      <th></th>\n",
       "      <th></th>\n",
       "      <th></th>\n",
       "      <th></th>\n",
       "    </tr>\n",
       "  </thead>\n",
       "  <tbody>\n",
       "    <tr>\n",
       "      <th>1</th>\n",
       "      <td>Basic</td>\n",
       "      <td>10</td>\n",
       "      <td>15-01-22</td>\n",
       "      <td>10-06-23</td>\n",
       "      <td>United States</td>\n",
       "      <td>28</td>\n",
       "      <td>Male</td>\n",
       "      <td>Smartphone</td>\n",
       "      <td>1 Month</td>\n",
       "    </tr>\n",
       "    <tr>\n",
       "      <th>2</th>\n",
       "      <td>Premium</td>\n",
       "      <td>15</td>\n",
       "      <td>05-09-21</td>\n",
       "      <td>22-06-23</td>\n",
       "      <td>Canada</td>\n",
       "      <td>35</td>\n",
       "      <td>Female</td>\n",
       "      <td>Tablet</td>\n",
       "      <td>1 Month</td>\n",
       "    </tr>\n",
       "    <tr>\n",
       "      <th>3</th>\n",
       "      <td>Standard</td>\n",
       "      <td>12</td>\n",
       "      <td>28-02-23</td>\n",
       "      <td>27-06-23</td>\n",
       "      <td>United Kingdom</td>\n",
       "      <td>42</td>\n",
       "      <td>Male</td>\n",
       "      <td>Smart TV</td>\n",
       "      <td>1 Month</td>\n",
       "    </tr>\n",
       "    <tr>\n",
       "      <th>4</th>\n",
       "      <td>Standard</td>\n",
       "      <td>12</td>\n",
       "      <td>10-07-22</td>\n",
       "      <td>26-06-23</td>\n",
       "      <td>Australia</td>\n",
       "      <td>51</td>\n",
       "      <td>Female</td>\n",
       "      <td>Laptop</td>\n",
       "      <td>1 Month</td>\n",
       "    </tr>\n",
       "    <tr>\n",
       "      <th>5</th>\n",
       "      <td>Basic</td>\n",
       "      <td>10</td>\n",
       "      <td>01-05-23</td>\n",
       "      <td>28-06-23</td>\n",
       "      <td>Germany</td>\n",
       "      <td>33</td>\n",
       "      <td>Male</td>\n",
       "      <td>Smartphone</td>\n",
       "      <td>1 Month</td>\n",
       "    </tr>\n",
       "    <tr>\n",
       "      <th>...</th>\n",
       "      <td>...</td>\n",
       "      <td>...</td>\n",
       "      <td>...</td>\n",
       "      <td>...</td>\n",
       "      <td>...</td>\n",
       "      <td>...</td>\n",
       "      <td>...</td>\n",
       "      <td>...</td>\n",
       "      <td>...</td>\n",
       "    </tr>\n",
       "    <tr>\n",
       "      <th>2496</th>\n",
       "      <td>Premium</td>\n",
       "      <td>14</td>\n",
       "      <td>25-07-22</td>\n",
       "      <td>12-07-23</td>\n",
       "      <td>Spain</td>\n",
       "      <td>28</td>\n",
       "      <td>Female</td>\n",
       "      <td>Smart TV</td>\n",
       "      <td>1 Month</td>\n",
       "    </tr>\n",
       "    <tr>\n",
       "      <th>2497</th>\n",
       "      <td>Basic</td>\n",
       "      <td>15</td>\n",
       "      <td>04-08-22</td>\n",
       "      <td>14-07-23</td>\n",
       "      <td>Spain</td>\n",
       "      <td>33</td>\n",
       "      <td>Female</td>\n",
       "      <td>Smart TV</td>\n",
       "      <td>1 Month</td>\n",
       "    </tr>\n",
       "    <tr>\n",
       "      <th>2498</th>\n",
       "      <td>Standard</td>\n",
       "      <td>12</td>\n",
       "      <td>09-08-22</td>\n",
       "      <td>15-07-23</td>\n",
       "      <td>United States</td>\n",
       "      <td>38</td>\n",
       "      <td>Male</td>\n",
       "      <td>Laptop</td>\n",
       "      <td>1 Month</td>\n",
       "    </tr>\n",
       "    <tr>\n",
       "      <th>2499</th>\n",
       "      <td>Standard</td>\n",
       "      <td>13</td>\n",
       "      <td>12-08-22</td>\n",
       "      <td>12-07-23</td>\n",
       "      <td>Canada</td>\n",
       "      <td>48</td>\n",
       "      <td>Female</td>\n",
       "      <td>Tablet</td>\n",
       "      <td>1 Month</td>\n",
       "    </tr>\n",
       "    <tr>\n",
       "      <th>2500</th>\n",
       "      <td>Basic</td>\n",
       "      <td>15</td>\n",
       "      <td>13-08-22</td>\n",
       "      <td>12-07-23</td>\n",
       "      <td>United States</td>\n",
       "      <td>35</td>\n",
       "      <td>Female</td>\n",
       "      <td>Smart TV</td>\n",
       "      <td>1 Month</td>\n",
       "    </tr>\n",
       "  </tbody>\n",
       "</table>\n",
       "<p>2500 rows × 9 columns</p>\n",
       "</div>"
      ],
      "text/plain": [
       "        Subscription Type  Monthly Revenue Join Date Last Payment Date  \\\n",
       "User ID                                                                  \n",
       "1                   Basic               10  15-01-22          10-06-23   \n",
       "2                 Premium               15  05-09-21          22-06-23   \n",
       "3                Standard               12  28-02-23          27-06-23   \n",
       "4                Standard               12  10-07-22          26-06-23   \n",
       "5                   Basic               10  01-05-23          28-06-23   \n",
       "...                   ...              ...       ...               ...   \n",
       "2496              Premium               14  25-07-22          12-07-23   \n",
       "2497                Basic               15  04-08-22          14-07-23   \n",
       "2498             Standard               12  09-08-22          15-07-23   \n",
       "2499             Standard               13  12-08-22          12-07-23   \n",
       "2500                Basic               15  13-08-22          12-07-23   \n",
       "\n",
       "                Country  Age  Gender      Device Plan Duration  \n",
       "User ID                                                         \n",
       "1         United States   28    Male  Smartphone       1 Month  \n",
       "2                Canada   35  Female      Tablet       1 Month  \n",
       "3        United Kingdom   42    Male    Smart TV       1 Month  \n",
       "4             Australia   51  Female      Laptop       1 Month  \n",
       "5               Germany   33    Male  Smartphone       1 Month  \n",
       "...                 ...  ...     ...         ...           ...  \n",
       "2496              Spain   28  Female    Smart TV       1 Month  \n",
       "2497              Spain   33  Female    Smart TV       1 Month  \n",
       "2498      United States   38    Male      Laptop       1 Month  \n",
       "2499             Canada   48  Female      Tablet       1 Month  \n",
       "2500      United States   35  Female    Smart TV       1 Month  \n",
       "\n",
       "[2500 rows x 9 columns]"
      ]
     },
     "execution_count": 12,
     "metadata": {},
     "output_type": "execute_result"
    }
   ],
   "source": [
    "import pandas as pd\n",
    "import numpy as np\n",
    "import matplotlib.pyplot as plt\n",
    "\n",
    "# 데이터 불러오기\n",
    "netflix_df = pd.read_csv('Netflix Userbase.csv', index_col='User ID')\n",
    "netflix_df"
   ]
  },
  {
   "cell_type": "code",
   "execution_count": 13,
   "id": "db603c8d",
   "metadata": {
    "ExecuteTime": {
     "end_time": "2023-09-24T04:07:20.402016Z",
     "start_time": "2023-09-24T04:07:20.390260Z"
    }
   },
   "outputs": [
    {
     "name": "stdout",
     "output_type": "stream",
     "text": [
      "<class 'pandas.core.frame.DataFrame'>\n",
      "Int64Index: 2500 entries, 1 to 2500\n",
      "Data columns (total 9 columns):\n",
      " #   Column             Non-Null Count  Dtype \n",
      "---  ------             --------------  ----- \n",
      " 0   Subscription Type  2500 non-null   object\n",
      " 1   Monthly Revenue    2500 non-null   int64 \n",
      " 2   Join Date          2500 non-null   object\n",
      " 3   Last Payment Date  2500 non-null   object\n",
      " 4   Country            2500 non-null   object\n",
      " 5   Age                2500 non-null   int64 \n",
      " 6   Gender             2500 non-null   object\n",
      " 7   Device             2500 non-null   object\n",
      " 8   Plan Duration      2500 non-null   object\n",
      "dtypes: int64(2), object(7)\n",
      "memory usage: 195.3+ KB\n"
     ]
    }
   ],
   "source": [
    "netflix_df.info()"
   ]
  },
  {
   "cell_type": "markdown",
   "id": "52b8c8da",
   "metadata": {},
   "source": [
    "총 2500개의 데이터를 가지고 있으며 모든 데이터에 null 값이 존재하지 않는다."
   ]
  },
  {
   "cell_type": "code",
   "execution_count": 18,
   "id": "90e7d34d",
   "metadata": {
    "ExecuteTime": {
     "end_time": "2023-09-24T04:09:27.590503Z",
     "start_time": "2023-09-24T04:09:27.558972Z"
    }
   },
   "outputs": [
    {
     "data": {
      "text/html": [
       "<div>\n",
       "<style scoped>\n",
       "    .dataframe tbody tr th:only-of-type {\n",
       "        vertical-align: middle;\n",
       "    }\n",
       "\n",
       "    .dataframe tbody tr th {\n",
       "        vertical-align: top;\n",
       "    }\n",
       "\n",
       "    .dataframe thead th {\n",
       "        text-align: right;\n",
       "    }\n",
       "</style>\n",
       "<table border=\"1\" class=\"dataframe\">\n",
       "  <thead>\n",
       "    <tr style=\"text-align: right;\">\n",
       "      <th></th>\n",
       "      <th>Monthly Revenue</th>\n",
       "      <th>Age</th>\n",
       "    </tr>\n",
       "  </thead>\n",
       "  <tbody>\n",
       "    <tr>\n",
       "      <th>count</th>\n",
       "      <td>2500.000000</td>\n",
       "      <td>2500.000000</td>\n",
       "    </tr>\n",
       "    <tr>\n",
       "      <th>mean</th>\n",
       "      <td>12.508400</td>\n",
       "      <td>38.795600</td>\n",
       "    </tr>\n",
       "    <tr>\n",
       "      <th>std</th>\n",
       "      <td>1.686851</td>\n",
       "      <td>7.171778</td>\n",
       "    </tr>\n",
       "    <tr>\n",
       "      <th>min</th>\n",
       "      <td>10.000000</td>\n",
       "      <td>26.000000</td>\n",
       "    </tr>\n",
       "    <tr>\n",
       "      <th>25%</th>\n",
       "      <td>11.000000</td>\n",
       "      <td>32.000000</td>\n",
       "    </tr>\n",
       "    <tr>\n",
       "      <th>50%</th>\n",
       "      <td>12.000000</td>\n",
       "      <td>39.000000</td>\n",
       "    </tr>\n",
       "    <tr>\n",
       "      <th>75%</th>\n",
       "      <td>14.000000</td>\n",
       "      <td>45.000000</td>\n",
       "    </tr>\n",
       "    <tr>\n",
       "      <th>max</th>\n",
       "      <td>15.000000</td>\n",
       "      <td>51.000000</td>\n",
       "    </tr>\n",
       "  </tbody>\n",
       "</table>\n",
       "</div>"
      ],
      "text/plain": [
       "       Monthly Revenue          Age\n",
       "count      2500.000000  2500.000000\n",
       "mean         12.508400    38.795600\n",
       "std           1.686851     7.171778\n",
       "min          10.000000    26.000000\n",
       "25%          11.000000    32.000000\n",
       "50%          12.000000    39.000000\n",
       "75%          14.000000    45.000000\n",
       "max          15.000000    51.000000"
      ]
     },
     "execution_count": 18,
     "metadata": {},
     "output_type": "execute_result"
    }
   ],
   "source": [
    "netflix_df.describe()"
   ]
  },
  {
   "cell_type": "markdown",
   "id": "8158203c",
   "metadata": {},
   "source": [
    "```Monthly Revenue```가 10 ~ 15의 정수인 것으로 보아 단위는 **달러**일 것으로 추측된다.\n",
    "\n",
    "```Age```는 26 ~ 51의 정수이며 평균은 약 38.8세이다."
   ]
  },
  {
   "cell_type": "code",
   "execution_count": 81,
   "id": "473a8f37",
   "metadata": {
    "ExecuteTime": {
     "end_time": "2023-09-24T05:41:59.240224Z",
     "start_time": "2023-09-24T05:41:59.228049Z"
    }
   },
   "outputs": [
    {
     "data": {
      "text/plain": [
       "array(['Basic', 'Premium', 'Standard'], dtype=object)"
      ]
     },
     "execution_count": 81,
     "metadata": {},
     "output_type": "execute_result"
    }
   ],
   "source": [
    "netflix_df['Subscription Type'].unique()"
   ]
  },
  {
   "cell_type": "markdown",
   "id": "2d1ed0e5",
   "metadata": {},
   "source": [
    "요금제의 유형은 **Basic, Standard, Premium의 3가지**로 구성되어 있으며, 본 데이터에는 '광고가 포함된 최저가 요금제'는 반영되어 있지 않다."
   ]
  },
  {
   "cell_type": "code",
   "execution_count": 82,
   "id": "6496c259",
   "metadata": {
    "ExecuteTime": {
     "end_time": "2023-09-24T05:42:05.018921Z",
     "start_time": "2023-09-24T05:42:05.002291Z"
    },
    "scrolled": true
   },
   "outputs": [
    {
     "data": {
      "text/plain": [
       "10"
      ]
     },
     "execution_count": 82,
     "metadata": {},
     "output_type": "execute_result"
    }
   ],
   "source": [
    "netflix_df['Country'].nunique()"
   ]
  },
  {
   "cell_type": "code",
   "execution_count": 88,
   "id": "81cfa82f",
   "metadata": {
    "ExecuteTime": {
     "end_time": "2023-09-24T05:43:15.482811Z",
     "start_time": "2023-09-24T05:43:15.467512Z"
    }
   },
   "outputs": [
    {
     "data": {
      "text/plain": [
       "array(['United States', 'Canada', 'United Kingdom', 'Australia',\n",
       "       'Germany', 'France', 'Brazil', 'Mexico', 'Spain', 'Italy'],\n",
       "      dtype=object)"
      ]
     },
     "execution_count": 88,
     "metadata": {},
     "output_type": "execute_result"
    }
   ],
   "source": [
    "netflix_df['Country'].unique()"
   ]
  },
  {
   "cell_type": "markdown",
   "id": "ca60bf96",
   "metadata": {},
   "source": [
    "국가는 **총 10개국**으로 구성되어 있다."
   ]
  },
  {
   "cell_type": "code",
   "execution_count": 164,
   "id": "ec1ed2b7",
   "metadata": {
    "ExecuteTime": {
     "end_time": "2023-09-24T06:16:40.251309Z",
     "start_time": "2023-09-24T06:16:40.227578Z"
    }
   },
   "outputs": [
    {
     "data": {
      "text/html": [
       "<div>\n",
       "<style scoped>\n",
       "    .dataframe tbody tr th:only-of-type {\n",
       "        vertical-align: middle;\n",
       "    }\n",
       "\n",
       "    .dataframe tbody tr th {\n",
       "        vertical-align: top;\n",
       "    }\n",
       "\n",
       "    .dataframe thead th {\n",
       "        text-align: right;\n",
       "    }\n",
       "</style>\n",
       "<table border=\"1\" class=\"dataframe\">\n",
       "  <thead>\n",
       "    <tr style=\"text-align: right;\">\n",
       "      <th></th>\n",
       "      <th>count</th>\n",
       "    </tr>\n",
       "    <tr>\n",
       "      <th>Country</th>\n",
       "      <th></th>\n",
       "    </tr>\n",
       "  </thead>\n",
       "  <tbody>\n",
       "    <tr>\n",
       "      <th>Spain</th>\n",
       "      <td>451</td>\n",
       "    </tr>\n",
       "    <tr>\n",
       "      <th>United States</th>\n",
       "      <td>451</td>\n",
       "    </tr>\n",
       "    <tr>\n",
       "      <th>Canada</th>\n",
       "      <td>317</td>\n",
       "    </tr>\n",
       "    <tr>\n",
       "      <th>Australia</th>\n",
       "      <td>183</td>\n",
       "    </tr>\n",
       "    <tr>\n",
       "      <th>Brazil</th>\n",
       "      <td>183</td>\n",
       "    </tr>\n",
       "    <tr>\n",
       "      <th>France</th>\n",
       "      <td>183</td>\n",
       "    </tr>\n",
       "    <tr>\n",
       "      <th>Germany</th>\n",
       "      <td>183</td>\n",
       "    </tr>\n",
       "    <tr>\n",
       "      <th>Italy</th>\n",
       "      <td>183</td>\n",
       "    </tr>\n",
       "    <tr>\n",
       "      <th>Mexico</th>\n",
       "      <td>183</td>\n",
       "    </tr>\n",
       "    <tr>\n",
       "      <th>United Kingdom</th>\n",
       "      <td>183</td>\n",
       "    </tr>\n",
       "  </tbody>\n",
       "</table>\n",
       "</div>"
      ],
      "text/plain": [
       "                count\n",
       "Country              \n",
       "Spain             451\n",
       "United States     451\n",
       "Canada            317\n",
       "Australia         183\n",
       "Brazil            183\n",
       "France            183\n",
       "Germany           183\n",
       "Italy             183\n",
       "Mexico            183\n",
       "United Kingdom    183"
      ]
     },
     "execution_count": 164,
     "metadata": {},
     "output_type": "execute_result"
    }
   ],
   "source": [
    "countries = pd.DataFrame(netflix_df.groupby(['Country']).size(), columns=['count'])\n",
    "countries_df = countries.sort_values(['count', 'Country'], ascending=[False, True]) #데이터 개수 내림차순 -> 국가 이름 오름차순\n",
    "countries_df"
   ]
  },
  {
   "cell_type": "markdown",
   "id": "e6fb0ffd",
   "metadata": {},
   "source": [
    "스페인과 미국이 가장 많은 451개의 데이터를 포함하고 있다. 호주, 브라질 등 7개국이 183개의 데이터로 가장 적다."
   ]
  },
  {
   "cell_type": "code",
   "execution_count": 103,
   "id": "12b91455",
   "metadata": {
    "ExecuteTime": {
     "end_time": "2023-09-24T05:50:00.803581Z",
     "start_time": "2023-09-24T05:50:00.796087Z"
    }
   },
   "outputs": [
    {
     "data": {
      "text/plain": [
       "array(['1 Month'], dtype=object)"
      ]
     },
     "execution_count": 103,
     "metadata": {},
     "output_type": "execute_result"
    }
   ],
   "source": [
    "netflix_df['Plan Duration'].unique()"
   ]
  },
  {
   "cell_type": "markdown",
   "id": "16de00d9",
   "metadata": {},
   "source": [
    "넷플릭스의 구독 유형은 전부 **월간 구독**이다."
   ]
  },
  {
   "cell_type": "markdown",
   "id": "8d95b6f9",
   "metadata": {},
   "source": [
    "## 3. 구독 유형에 따른 수익 합계"
   ]
  },
  {
   "cell_type": "code",
   "execution_count": 104,
   "id": "ff872560",
   "metadata": {
    "ExecuteTime": {
     "end_time": "2023-09-24T05:50:21.913669Z",
     "start_time": "2023-09-24T05:50:21.897444Z"
    }
   },
   "outputs": [
    {
     "data": {
      "text/html": [
       "<div>\n",
       "<style scoped>\n",
       "    .dataframe tbody tr th:only-of-type {\n",
       "        vertical-align: middle;\n",
       "    }\n",
       "\n",
       "    .dataframe tbody tr th {\n",
       "        vertical-align: top;\n",
       "    }\n",
       "\n",
       "    .dataframe thead th {\n",
       "        text-align: right;\n",
       "    }\n",
       "</style>\n",
       "<table border=\"1\" class=\"dataframe\">\n",
       "  <thead>\n",
       "    <tr style=\"text-align: right;\">\n",
       "      <th></th>\n",
       "      <th>sum</th>\n",
       "    </tr>\n",
       "    <tr>\n",
       "      <th>Subscription Type</th>\n",
       "      <th></th>\n",
       "    </tr>\n",
       "  </thead>\n",
       "  <tbody>\n",
       "    <tr>\n",
       "      <th>Basic</th>\n",
       "      <td>12469</td>\n",
       "    </tr>\n",
       "    <tr>\n",
       "      <th>Premium</th>\n",
       "      <td>9229</td>\n",
       "    </tr>\n",
       "    <tr>\n",
       "      <th>Standard</th>\n",
       "      <td>9573</td>\n",
       "    </tr>\n",
       "  </tbody>\n",
       "</table>\n",
       "</div>"
      ],
      "text/plain": [
       "                     sum\n",
       "Subscription Type       \n",
       "Basic              12469\n",
       "Premium             9229\n",
       "Standard            9573"
      ]
     },
     "execution_count": 104,
     "metadata": {},
     "output_type": "execute_result"
    }
   ],
   "source": [
    "# 구독 유형에 따른 수익 합계 도출\n",
    "revenue_by_total_subs_df = netflix_df.groupby('Subscription Type')['Monthly Revenue'].agg(['sum'])\n",
    "revenue_by_total_subs_df"
   ]
  },
  {
   "cell_type": "code",
   "execution_count": 105,
   "id": "749b9746",
   "metadata": {
    "ExecuteTime": {
     "end_time": "2023-09-24T05:51:43.426941Z",
     "start_time": "2023-09-24T05:51:43.283101Z"
    }
   },
   "outputs": [
    {
     "data": {
      "image/png": "[encoded data removed]",
      "text/plain": [
       "<Figure size 640x480 with 1 Axes>"
      ]
     },
     "metadata": {},
     "output_type": "display_data"
    }
   ],
   "source": [
    "# 폰트 설정\n",
    "plt.rc('font', family='NanumSquare_ac')\n",
    "\n",
    "# 그래프 그리기\n",
    "custom_order = ['Basic', 'Standard', 'Premium'] #막대의 순서(요금제 가격 순)\n",
    "revenue_by_total_subs_df.loc[custom_order].plot(kind='bar', color='#E50914', legend=False)\n",
    "\n",
    "# 시각화 설정\n",
    "plt.title('구독 유형에 따른 수익 합계', fontsize=15, fontweight=900)\n",
    "plt.ylabel('총 수익($)', fontsize=12, fontweight='bold')\n",
    "plt.xlabel('구독 유형', fontsize=12, fontweight='bold')\n",
    "plt.xticks(rotation=0)\n",
    "\n",
    "plt.show()"
   ]
  },
  {
   "cell_type": "markdown",
   "id": "6e5019ed",
   "metadata": {},
   "source": [
    "**Basic 유형의 수익 합계가 가장 많고,** Standard와 Premium은 비슷한 수준으로 보인다."
   ]
  },
  {
   "cell_type": "markdown",
   "id": "6d7ad3fc",
   "metadata": {},
   "source": [
    "## 4. 구독 유형에 따른 수익률"
   ]
  },
  {
   "cell_type": "code",
   "execution_count": 106,
   "id": "01cf8885",
   "metadata": {
    "ExecuteTime": {
     "end_time": "2023-09-24T05:54:45.888321Z",
     "start_time": "2023-09-24T05:54:45.865008Z"
    }
   },
   "outputs": [
    {
     "data": {
      "text/html": [
       "<div>\n",
       "<style scoped>\n",
       "    .dataframe tbody tr th:only-of-type {\n",
       "        vertical-align: middle;\n",
       "    }\n",
       "\n",
       "    .dataframe tbody tr th {\n",
       "        vertical-align: top;\n",
       "    }\n",
       "\n",
       "    .dataframe thead th {\n",
       "        text-align: right;\n",
       "    }\n",
       "</style>\n",
       "<table border=\"1\" class=\"dataframe\">\n",
       "  <thead>\n",
       "    <tr style=\"text-align: right;\">\n",
       "      <th></th>\n",
       "      <th>mean</th>\n",
       "    </tr>\n",
       "    <tr>\n",
       "      <th>Subscription Type</th>\n",
       "      <th></th>\n",
       "    </tr>\n",
       "  </thead>\n",
       "  <tbody>\n",
       "    <tr>\n",
       "      <th>Basic</th>\n",
       "      <td>12.481481</td>\n",
       "    </tr>\n",
       "    <tr>\n",
       "      <th>Premium</th>\n",
       "      <td>12.590723</td>\n",
       "    </tr>\n",
       "    <tr>\n",
       "      <th>Standard</th>\n",
       "      <td>12.464844</td>\n",
       "    </tr>\n",
       "  </tbody>\n",
       "</table>\n",
       "</div>"
      ],
      "text/plain": [
       "                        mean\n",
       "Subscription Type           \n",
       "Basic              12.481481\n",
       "Premium            12.590723\n",
       "Standard           12.464844"
      ]
     },
     "execution_count": 106,
     "metadata": {},
     "output_type": "execute_result"
    }
   ],
   "source": [
    "# 구독 유형에 따른 수익률(결제 당 수익) 도출\n",
    "revenue_by_a_payment_df = netflix_df.groupby('Subscription Type')['Monthly Revenue'].agg(['mean'])\n",
    "revenue_by_a_payment_df"
   ]
  },
  {
   "cell_type": "code",
   "execution_count": 276,
   "id": "66d6a4b9",
   "metadata": {
    "ExecuteTime": {
     "end_time": "2023-09-24T10:25:29.010409Z",
     "start_time": "2023-09-24T10:25:28.852397Z"
    }
   },
   "outputs": [
    {
     "data": {
      "image/png": "[encoded data removed]",
      "text/plain": [
       "<Figure size 640x480 with 1 Axes>"
      ]
     },
     "metadata": {},
     "output_type": "display_data"
    }
   ],
   "source": [
    "# 그래프 그리기\n",
    "custom_order = ['Basic', 'Standard', 'Premium'] #막대의 순서(요금제 가격 순)\n",
    "revenue_by_a_payment_df.loc[custom_order].plot(kind='bar', color='#E50914', legend=False) \n",
    "\n",
    "# 시각화 설정\n",
    "plt.title('구독 유형에 따른 수익률', fontsize=15, fontweight=900)\n",
    "plt.ylabel('단위 결제 당 수익($/명)', fontsize=12, fontweight='bold')\n",
    "plt.xlabel('구독 유형', fontsize=12, fontweight='bold')\n",
    "plt.xticks(rotation=0)\n",
    "\n",
    "plt.show()"
   ]
  },
  {
   "cell_type": "markdown",
   "id": "73ee35b8",
   "metadata": {},
   "source": [
    "의외로 구독 유형에 따른 **차이가 없다.** 한국의 경우를 떠올려 보면 Basic 9500원, Standard 13500원, Premium 17000원으로 책정되어 있기 때문에, 이렇게 큰 차이가 없는 것은 의외의 결과다."
   ]
  },
  {
   "cell_type": "markdown",
   "id": "3fe718a8",
   "metadata": {},
   "source": [
    "## 5. 국가 별 구독 유형에 따른 수익성"
   ]
  },
  {
   "cell_type": "markdown",
   "id": "0f8ae3c5",
   "metadata": {},
   "source": [
    "### 5-1. 가입자 수"
   ]
  },
  {
   "cell_type": "code",
   "execution_count": 239,
   "id": "2646d298",
   "metadata": {
    "ExecuteTime": {
     "end_time": "2023-09-24T07:27:47.877139Z",
     "start_time": "2023-09-24T07:27:47.848470Z"
    }
   },
   "outputs": [
    {
     "data": {
      "text/html": [
       "<div>\n",
       "<style scoped>\n",
       "    .dataframe tbody tr th:only-of-type {\n",
       "        vertical-align: middle;\n",
       "    }\n",
       "\n",
       "    .dataframe tbody tr th {\n",
       "        vertical-align: top;\n",
       "    }\n",
       "\n",
       "    .dataframe thead th {\n",
       "        text-align: right;\n",
       "    }\n",
       "</style>\n",
       "<table border=\"1\" class=\"dataframe\">\n",
       "  <thead>\n",
       "    <tr style=\"text-align: right;\">\n",
       "      <th>Subscription Type</th>\n",
       "      <th>Basic</th>\n",
       "      <th>Standard</th>\n",
       "      <th>Premium</th>\n",
       "    </tr>\n",
       "    <tr>\n",
       "      <th>Country</th>\n",
       "      <th></th>\n",
       "      <th></th>\n",
       "      <th></th>\n",
       "    </tr>\n",
       "  </thead>\n",
       "  <tbody>\n",
       "    <tr>\n",
       "      <th>Spain</th>\n",
       "      <td>110</td>\n",
       "      <td>129</td>\n",
       "      <td>212</td>\n",
       "    </tr>\n",
       "    <tr>\n",
       "      <th>United States</th>\n",
       "      <td>199</td>\n",
       "      <td>107</td>\n",
       "      <td>145</td>\n",
       "    </tr>\n",
       "    <tr>\n",
       "      <th>Canada</th>\n",
       "      <td>145</td>\n",
       "      <td>84</td>\n",
       "      <td>88</td>\n",
       "    </tr>\n",
       "    <tr>\n",
       "      <th>Australia</th>\n",
       "      <td>31</td>\n",
       "      <td>51</td>\n",
       "      <td>101</td>\n",
       "    </tr>\n",
       "    <tr>\n",
       "      <th>Brazil</th>\n",
       "      <td>146</td>\n",
       "      <td>4</td>\n",
       "      <td>33</td>\n",
       "    </tr>\n",
       "    <tr>\n",
       "      <th>France</th>\n",
       "      <td>36</td>\n",
       "      <td>0</td>\n",
       "      <td>147</td>\n",
       "    </tr>\n",
       "    <tr>\n",
       "      <th>Germany</th>\n",
       "      <td>149</td>\n",
       "      <td>31</td>\n",
       "      <td>3</td>\n",
       "    </tr>\n",
       "    <tr>\n",
       "      <th>Italy</th>\n",
       "      <td>176</td>\n",
       "      <td>3</td>\n",
       "      <td>4</td>\n",
       "    </tr>\n",
       "    <tr>\n",
       "      <th>Mexico</th>\n",
       "      <td>4</td>\n",
       "      <td>179</td>\n",
       "      <td>0</td>\n",
       "    </tr>\n",
       "    <tr>\n",
       "      <th>United Kingdom</th>\n",
       "      <td>3</td>\n",
       "      <td>180</td>\n",
       "      <td>0</td>\n",
       "    </tr>\n",
       "  </tbody>\n",
       "</table>\n",
       "</div>"
      ],
      "text/plain": [
       "Subscription Type  Basic  Standard  Premium\n",
       "Country                                    \n",
       "Spain                110       129      212\n",
       "United States        199       107      145\n",
       "Canada               145        84       88\n",
       "Australia             31        51      101\n",
       "Brazil               146         4       33\n",
       "France                36         0      147\n",
       "Germany              149        31        3\n",
       "Italy                176         3        4\n",
       "Mexico                 4       179        0\n",
       "United Kingdom         3       180        0"
      ]
     },
     "execution_count": 239,
     "metadata": {},
     "output_type": "execute_result"
    }
   ],
   "source": [
    "# 국가 별 구독 유형에 따른 가입자 수 도출\n",
    "count_by_country = netflix_df.groupby(['Country', 'Subscription Type']).size().unstack(fill_value=0)\n",
    "\n",
    "# 순서 정렬\n",
    "custom_col_order = ['Basic', 'Standard', 'Premium'] #요금제 가격 순\n",
    "count_by_country = count_by_country[custom_col_order]\n",
    "custom_row_order = list(countries_df.index)\n",
    "count_by_country = count_by_country.reindex(custom_row_order)\n",
    "\n",
    "count_by_country"
   ]
  },
  {
   "cell_type": "code",
   "execution_count": 240,
   "id": "eae87cd9",
   "metadata": {
    "ExecuteTime": {
     "end_time": "2023-09-24T07:27:48.950866Z",
     "start_time": "2023-09-24T07:27:48.752243Z"
    }
   },
   "outputs": [
    {
     "data": {
      "image/png": "[encoded data removed]",
      "text/plain": [
       "<Figure size 1400x700 with 1 Axes>"
      ]
     },
     "metadata": {},
     "output_type": "display_data"
    }
   ],
   "source": [
    "# 그래프 그리기\n",
    "count_by_country.plot(kind='bar', color=['#F28489', '#ED525A', '#E50914'], stacked=True, figsize=(14, 7))\n",
    "\n",
    "# 시각화 설정\n",
    "plt.title('국가 별 구독 유형에 따른 가입자 수', fontsize=15, fontweight=900)\n",
    "plt.ylabel('가입자 수(명)', fontsize=12, fontweight='bold')\n",
    "plt.xlabel('국가', fontsize=12, fontweight='bold')\n",
    "plt.xticks(rotation=0)\n",
    "\n",
    "plt.show()"
   ]
  },
  {
   "cell_type": "markdown",
   "id": "d5565251",
   "metadata": {},
   "source": [
    "### 5-2. 수익 합계"
   ]
  },
  {
   "cell_type": "code",
   "execution_count": 227,
   "id": "c5e2a3b8",
   "metadata": {
    "ExecuteTime": {
     "end_time": "2023-09-24T07:11:43.245454Z",
     "start_time": "2023-09-24T07:11:43.219340Z"
    }
   },
   "outputs": [
    {
     "data": {
      "text/html": [
       "<div>\n",
       "<style scoped>\n",
       "    .dataframe tbody tr th:only-of-type {\n",
       "        vertical-align: middle;\n",
       "    }\n",
       "\n",
       "    .dataframe tbody tr th {\n",
       "        vertical-align: top;\n",
       "    }\n",
       "\n",
       "    .dataframe thead th {\n",
       "        text-align: right;\n",
       "    }\n",
       "</style>\n",
       "<table border=\"1\" class=\"dataframe\">\n",
       "  <thead>\n",
       "    <tr style=\"text-align: right;\">\n",
       "      <th>Subscription Type</th>\n",
       "      <th>Basic</th>\n",
       "      <th>Standard</th>\n",
       "      <th>Premium</th>\n",
       "      <th>Sum</th>\n",
       "    </tr>\n",
       "    <tr>\n",
       "      <th>Country</th>\n",
       "      <th></th>\n",
       "      <th></th>\n",
       "      <th></th>\n",
       "      <th></th>\n",
       "    </tr>\n",
       "  </thead>\n",
       "  <tbody>\n",
       "    <tr>\n",
       "      <th>United States</th>\n",
       "      <td>2483</td>\n",
       "      <td>1344</td>\n",
       "      <td>1837</td>\n",
       "      <td>5664</td>\n",
       "    </tr>\n",
       "    <tr>\n",
       "      <th>Spain</th>\n",
       "      <td>1386</td>\n",
       "      <td>1587</td>\n",
       "      <td>2689</td>\n",
       "      <td>5662</td>\n",
       "    </tr>\n",
       "    <tr>\n",
       "      <th>Canada</th>\n",
       "      <td>1816</td>\n",
       "      <td>1048</td>\n",
       "      <td>1086</td>\n",
       "      <td>3950</td>\n",
       "    </tr>\n",
       "    <tr>\n",
       "      <th>United Kingdom</th>\n",
       "      <td>35</td>\n",
       "      <td>2283</td>\n",
       "      <td>0</td>\n",
       "      <td>2318</td>\n",
       "    </tr>\n",
       "    <tr>\n",
       "      <th>Italy</th>\n",
       "      <td>2223</td>\n",
       "      <td>39</td>\n",
       "      <td>55</td>\n",
       "      <td>2317</td>\n",
       "    </tr>\n",
       "    <tr>\n",
       "      <th>France</th>\n",
       "      <td>445</td>\n",
       "      <td>0</td>\n",
       "      <td>1862</td>\n",
       "      <td>2307</td>\n",
       "    </tr>\n",
       "    <tr>\n",
       "      <th>Brazil</th>\n",
       "      <td>1824</td>\n",
       "      <td>51</td>\n",
       "      <td>410</td>\n",
       "      <td>2285</td>\n",
       "    </tr>\n",
       "    <tr>\n",
       "      <th>Australia</th>\n",
       "      <td>378</td>\n",
       "      <td>639</td>\n",
       "      <td>1254</td>\n",
       "      <td>2271</td>\n",
       "    </tr>\n",
       "    <tr>\n",
       "      <th>Germany</th>\n",
       "      <td>1833</td>\n",
       "      <td>391</td>\n",
       "      <td>36</td>\n",
       "      <td>2260</td>\n",
       "    </tr>\n",
       "    <tr>\n",
       "      <th>Mexico</th>\n",
       "      <td>46</td>\n",
       "      <td>2191</td>\n",
       "      <td>0</td>\n",
       "      <td>2237</td>\n",
       "    </tr>\n",
       "  </tbody>\n",
       "</table>\n",
       "</div>"
      ],
      "text/plain": [
       "Subscription Type  Basic  Standard  Premium   Sum\n",
       "Country                                          \n",
       "United States       2483      1344     1837  5664\n",
       "Spain               1386      1587     2689  5662\n",
       "Canada              1816      1048     1086  3950\n",
       "United Kingdom        35      2283        0  2318\n",
       "Italy               2223        39       55  2317\n",
       "France               445         0     1862  2307\n",
       "Brazil              1824        51      410  2285\n",
       "Australia            378       639     1254  2271\n",
       "Germany             1833       391       36  2260\n",
       "Mexico                46      2191        0  2237"
      ]
     },
     "execution_count": 227,
     "metadata": {},
     "output_type": "execute_result"
    }
   ],
   "source": [
    "# 국가 별 구독 유형에 따른 수익 합계 도출\n",
    "revenue_by_country = netflix_df.groupby(['Country', 'Subscription Type']).agg({\n",
    "    'Monthly Revenue': 'sum'\n",
    "}).unstack(fill_value=0)\n",
    "\n",
    "# 순서 정렬\n",
    "custom_col_order = ['Basic', 'Standard', 'Premium'] #요금제 가격 순\n",
    "revenue_by_country = revenue_by_country.loc[:, 'Monthly Revenue'][custom_col_order]\n",
    "revenue_by_country['Sum'] = revenue_by_country['Basic'] + revenue_by_country['Standard'] + revenue_by_country['Premium']\n",
    "revenue_by_country = revenue_by_country.sort_values(\n",
    "    ['Sum', 'Country'], ascending=[False, True]\n",
    ") #전체 합계 내림차순 -> 국가 이름 오름차순\n",
    "\n",
    "revenue_by_country"
   ]
  },
  {
   "cell_type": "code",
   "execution_count": 237,
   "id": "3e4c6be7",
   "metadata": {
    "ExecuteTime": {
     "end_time": "2023-09-24T07:26:05.833476Z",
     "start_time": "2023-09-24T07:26:05.623195Z"
    }
   },
   "outputs": [
    {
     "data": {
      "image/png": "[encoded data removed]",
      "text/plain": [
       "<Figure size 1400x700 with 1 Axes>"
      ]
     },
     "metadata": {},
     "output_type": "display_data"
    }
   ],
   "source": [
    "# 그래프 그리기\n",
    "revenue_by_country.plot(\n",
    "    kind='bar',\n",
    "    y=['Basic', 'Standard', 'Premium'], #Sum은 포함하지 않음\n",
    "    color=['#F28489', '#ED525A', '#E50914'],\n",
    "    stacked=True,\n",
    "    figsize=(14, 7)\n",
    ")\n",
    "\n",
    "# 시각화 설정\n",
    "plt.title('국가 별 구독 유형에 따른 수익 합계', fontsize=15, fontweight=900)\n",
    "plt.ylabel('총 수익($)', fontsize=12, fontweight='bold')\n",
    "plt.xlabel('국가', fontsize=12, fontweight='bold')\n",
    "plt.xticks(rotation=0)\n",
    "\n",
    "plt.show()"
   ]
  },
  {
   "cell_type": "markdown",
   "id": "b8c39d8a",
   "metadata": {},
   "source": [
    "### 5-3. 수익률 당 가입자 수\n",
    "\n",
    "3가지 구독 유형 상품(Basic, Premium, Standard)의 수익성을 파악하는 지표로 '수익률 당 가입자 수'를 고려할 수 있다. 수입률 당 가입자 수는 각 구독 유형에 대한 가입자 수를 결제 당 수익으로 나눈 값이다.\n",
    "\n",
    "수익률 당 가입자 수 $r$는 전체 가입자 수(Count) $c$, 전체 수익(Revenue) $p$에 대하여\n",
    "$$r = {n^2 \\over p}$$\n",
    "라고 정의한다."
   ]
  },
  {
   "cell_type": "markdown",
   "id": "0937f0ca",
   "metadata": {},
   "source": [
    "수익률 당 가입자 수 지표는 다음과 같이 해석할 수 있다.\n",
    "- 수익률 당 가입자 수가 낮다면, 아직까지는 **많은 판매가 이루어지지 않은 상품**이다. 아직 인지도가 낮거나, 유저의 만족도가 낮은 상품으로 이해할 수 있다.\n",
    "    - 전자의 경우 해당 상품에 대한 마케팅을 추진했을 때의 잠재성이 높다고 생각할 수 있다.\n",
    "    - 후자의 경우 해당 상품에 대한 개선 방안을 도출해 내어 유저의 만족도를 끌어올려야 할 것이다.\n",
    "- 수익률 당 가입자 수가 높다면, **이미 많은 판매량을 기록하고 있는 효자 상품**이다. 이미 유저 만족도가 높아서 다수의 지지를 받고 있다."
   ]
  },
  {
   "cell_type": "code",
   "execution_count": 269,
   "id": "3a4f72a8",
   "metadata": {
    "ExecuteTime": {
     "end_time": "2023-09-24T08:23:44.030468Z",
     "start_time": "2023-09-24T08:23:44.008478Z"
    }
   },
   "outputs": [
    {
     "data": {
      "text/html": [
       "<div>\n",
       "<style scoped>\n",
       "    .dataframe tbody tr th:only-of-type {\n",
       "        vertical-align: middle;\n",
       "    }\n",
       "\n",
       "    .dataframe tbody tr th {\n",
       "        vertical-align: top;\n",
       "    }\n",
       "\n",
       "    .dataframe thead th {\n",
       "        text-align: right;\n",
       "    }\n",
       "</style>\n",
       "<table border=\"1\" class=\"dataframe\">\n",
       "  <thead>\n",
       "    <tr style=\"text-align: right;\">\n",
       "      <th>Subscription Type</th>\n",
       "      <th>Basic</th>\n",
       "      <th>Premium</th>\n",
       "      <th>Standard</th>\n",
       "    </tr>\n",
       "    <tr>\n",
       "      <th>Country</th>\n",
       "      <th></th>\n",
       "      <th></th>\n",
       "      <th></th>\n",
       "    </tr>\n",
       "  </thead>\n",
       "  <tbody>\n",
       "    <tr>\n",
       "      <th>Australia</th>\n",
       "      <td>12.193548</td>\n",
       "      <td>12.415842</td>\n",
       "      <td>12.529412</td>\n",
       "    </tr>\n",
       "    <tr>\n",
       "      <th>Brazil</th>\n",
       "      <td>12.493151</td>\n",
       "      <td>12.424242</td>\n",
       "      <td>12.750000</td>\n",
       "    </tr>\n",
       "    <tr>\n",
       "      <th>Canada</th>\n",
       "      <td>12.524138</td>\n",
       "      <td>12.340909</td>\n",
       "      <td>12.476190</td>\n",
       "    </tr>\n",
       "    <tr>\n",
       "      <th>France</th>\n",
       "      <td>12.361111</td>\n",
       "      <td>12.666667</td>\n",
       "      <td>NaN</td>\n",
       "    </tr>\n",
       "    <tr>\n",
       "      <th>Germany</th>\n",
       "      <td>12.302013</td>\n",
       "      <td>12.000000</td>\n",
       "      <td>12.612903</td>\n",
       "    </tr>\n",
       "    <tr>\n",
       "      <th>Italy</th>\n",
       "      <td>12.630682</td>\n",
       "      <td>13.750000</td>\n",
       "      <td>13.000000</td>\n",
       "    </tr>\n",
       "    <tr>\n",
       "      <th>Mexico</th>\n",
       "      <td>11.500000</td>\n",
       "      <td>NaN</td>\n",
       "      <td>12.240223</td>\n",
       "    </tr>\n",
       "    <tr>\n",
       "      <th>Spain</th>\n",
       "      <td>12.600000</td>\n",
       "      <td>12.683962</td>\n",
       "      <td>12.302326</td>\n",
       "    </tr>\n",
       "    <tr>\n",
       "      <th>United Kingdom</th>\n",
       "      <td>11.666667</td>\n",
       "      <td>NaN</td>\n",
       "      <td>12.683333</td>\n",
       "    </tr>\n",
       "    <tr>\n",
       "      <th>United States</th>\n",
       "      <td>12.477387</td>\n",
       "      <td>12.668966</td>\n",
       "      <td>12.560748</td>\n",
       "    </tr>\n",
       "  </tbody>\n",
       "</table>\n",
       "</div>"
      ],
      "text/plain": [
       "Subscription Type      Basic    Premium   Standard\n",
       "Country                                           \n",
       "Australia          12.193548  12.415842  12.529412\n",
       "Brazil             12.493151  12.424242  12.750000\n",
       "Canada             12.524138  12.340909  12.476190\n",
       "France             12.361111  12.666667        NaN\n",
       "Germany            12.302013  12.000000  12.612903\n",
       "Italy              12.630682  13.750000  13.000000\n",
       "Mexico             11.500000        NaN  12.240223\n",
       "Spain              12.600000  12.683962  12.302326\n",
       "United Kingdom     11.666667        NaN  12.683333\n",
       "United States      12.477387  12.668966  12.560748"
      ]
     },
     "execution_count": 269,
     "metadata": {},
     "output_type": "execute_result"
    }
   ],
   "source": [
    "# 국가 별 구독 유형에 따른 가입자 수 도출\n",
    "count_by_country_df = netflix_df.groupby(['Country', 'Subscription Type']).agg({\n",
    "    'Monthly Revenue': 'count'\n",
    "}).unstack(fill_value=0)['Monthly Revenue']\n",
    "\n",
    "# 국가 별 구독 유형에 따른 수익 합계 도출\n",
    "sum_by_country_df = netflix_df.groupby(['Country', 'Subscription Type']).agg({\n",
    "    'Monthly Revenue': 'sum'\n",
    "}).unstack(fill_value=0)['Monthly Revenue']\n",
    "\n",
    "# 국가 별 수익률(결제 당 수익) 도출\n",
    "revenue_rate_df = sum_by_country_df / count_by_country_df\n",
    "revenue_rate_df[revenue_rate_df.isna()] = 0 #null 값 채우기\n",
    "\n",
    "revenue_rate_df"
   ]
  },
  {
   "cell_type": "code",
   "execution_count": 273,
   "id": "446ffb75",
   "metadata": {
    "ExecuteTime": {
     "end_time": "2023-09-24T08:25:05.891676Z",
     "start_time": "2023-09-24T08:25:05.865359Z"
    }
   },
   "outputs": [
    {
     "data": {
      "text/html": [
       "<div>\n",
       "<style scoped>\n",
       "    .dataframe tbody tr th:only-of-type {\n",
       "        vertical-align: middle;\n",
       "    }\n",
       "\n",
       "    .dataframe tbody tr th {\n",
       "        vertical-align: top;\n",
       "    }\n",
       "\n",
       "    .dataframe thead th {\n",
       "        text-align: right;\n",
       "    }\n",
       "</style>\n",
       "<table border=\"1\" class=\"dataframe\">\n",
       "  <thead>\n",
       "    <tr style=\"text-align: right;\">\n",
       "      <th>Subscription Type</th>\n",
       "      <th>Basic</th>\n",
       "      <th>Standard</th>\n",
       "      <th>Premium</th>\n",
       "    </tr>\n",
       "    <tr>\n",
       "      <th>Country</th>\n",
       "      <th></th>\n",
       "      <th></th>\n",
       "      <th></th>\n",
       "    </tr>\n",
       "  </thead>\n",
       "  <tbody>\n",
       "    <tr>\n",
       "      <th>Spain</th>\n",
       "      <td>8.730159</td>\n",
       "      <td>10.485822</td>\n",
       "      <td>16.714020</td>\n",
       "    </tr>\n",
       "    <tr>\n",
       "      <th>United States</th>\n",
       "      <td>15.948852</td>\n",
       "      <td>8.518601</td>\n",
       "      <td>11.445291</td>\n",
       "    </tr>\n",
       "    <tr>\n",
       "      <th>Canada</th>\n",
       "      <td>11.577643</td>\n",
       "      <td>6.732824</td>\n",
       "      <td>7.130755</td>\n",
       "    </tr>\n",
       "    <tr>\n",
       "      <th>Australia</th>\n",
       "      <td>2.542328</td>\n",
       "      <td>4.070423</td>\n",
       "      <td>8.134769</td>\n",
       "    </tr>\n",
       "    <tr>\n",
       "      <th>Brazil</th>\n",
       "      <td>11.686404</td>\n",
       "      <td>0.313725</td>\n",
       "      <td>2.656098</td>\n",
       "    </tr>\n",
       "    <tr>\n",
       "      <th>France</th>\n",
       "      <td>2.912360</td>\n",
       "      <td>0.000000</td>\n",
       "      <td>11.605263</td>\n",
       "    </tr>\n",
       "    <tr>\n",
       "      <th>Germany</th>\n",
       "      <td>12.111839</td>\n",
       "      <td>2.457801</td>\n",
       "      <td>0.250000</td>\n",
       "    </tr>\n",
       "    <tr>\n",
       "      <th>Italy</th>\n",
       "      <td>13.934323</td>\n",
       "      <td>0.230769</td>\n",
       "      <td>0.290909</td>\n",
       "    </tr>\n",
       "    <tr>\n",
       "      <th>Mexico</th>\n",
       "      <td>0.347826</td>\n",
       "      <td>14.623916</td>\n",
       "      <td>0.000000</td>\n",
       "    </tr>\n",
       "    <tr>\n",
       "      <th>United Kingdom</th>\n",
       "      <td>0.257143</td>\n",
       "      <td>14.191853</td>\n",
       "      <td>0.000000</td>\n",
       "    </tr>\n",
       "  </tbody>\n",
       "</table>\n",
       "</div>"
      ],
      "text/plain": [
       "Subscription Type      Basic   Standard    Premium\n",
       "Country                                           \n",
       "Spain               8.730159  10.485822  16.714020\n",
       "United States      15.948852   8.518601  11.445291\n",
       "Canada             11.577643   6.732824   7.130755\n",
       "Australia           2.542328   4.070423   8.134769\n",
       "Brazil             11.686404   0.313725   2.656098\n",
       "France              2.912360   0.000000  11.605263\n",
       "Germany            12.111839   2.457801   0.250000\n",
       "Italy              13.934323   0.230769   0.290909\n",
       "Mexico              0.347826  14.623916   0.000000\n",
       "United Kingdom      0.257143  14.191853   0.000000"
      ]
     },
     "execution_count": 273,
     "metadata": {},
     "output_type": "execute_result"
    }
   ],
   "source": [
    "# 국가 별 구독 유형에 따른 수익률(결제 당 수익) 당 가입자 수 도출\n",
    "count_by_revenue_rate_df = count_by_country_df / revenue_rate_df\n",
    "count_by_revenue_rate_df[count_by_revenue_rate_df.isna()] = 0 #null 값 채우기\n",
    "\n",
    "# 순서 정렬\n",
    "custom_col_order = ['Basic', 'Standard', 'Premium'] #요금제 가격 순\n",
    "count_by_revenue_rate_df = count_by_revenue_rate_df[custom_col_order]\n",
    "custom_row_order = list(countries_df.index)\n",
    "count_by_revenue_rate_df = count_by_revenue_rate_df.reindex(custom_row_order)\n",
    "\n",
    "count_by_revenue_rate_df"
   ]
  },
  {
   "cell_type": "code",
   "execution_count": 275,
   "id": "74f1a2b7",
   "metadata": {
    "ExecuteTime": {
     "end_time": "2023-09-24T08:46:20.914020Z",
     "start_time": "2023-09-24T08:46:20.727764Z"
    }
   },
   "outputs": [
    {
     "data": {
      "image/png": "[encoded data removed]",
      "text/plain": [
       "<Figure size 1400x700 with 1 Axes>"
      ]
     },
     "metadata": {},
     "output_type": "display_data"
    }
   ],
   "source": [
    "# 그래프 그리기\n",
    "count_by_revenue_rate_df.plot(kind='bar', color=['#F28489', '#ED525A', '#E50914'], figsize=(14, 7))\n",
    "\n",
    "# 시각화 설정\n",
    "plt.title('국가 별 구독 유형에 따른 수익률 당 가입자 수', fontsize=15, fontweight=900)\n",
    "plt.ylabel('수익률 당 가입자 수(명²/$)', fontsize=12, fontweight='bold')\n",
    "plt.xlabel('국가', fontsize=12, fontweight='bold')\n",
    "plt.xticks(rotation=0)\n",
    "\n",
    "plt.show()"
   ]
  },
  {
   "cell_type": "markdown",
   "id": "d7195854",
   "metadata": {},
   "source": [
    "스페인, 미국, 캐나다, 호주 등은 각 구독 유형에 대한 지표가 비교적 균등하게 분포하고 있는 국가들이다. 이 경우에 대한 해석은 두 가지로 생각해 볼 수 있다.\n",
    "\n",
    "- 유저가 합리적이라고 생각하는 선택 폭이 다양하게 갖춰져 있다. 비교적 열세로 평가되는 상품 역시 상황에 따라 충분히 합리적으로 여겨질 수 있다는 의미이다. 예를 들어 스페인에서는 Premium 요금제가 가장 높은 선호도를 가지고 있지만, Basic과 Standard 역시 유저의 상황에 따라 제한적으로 고려 가능한 선택지이다.\n",
    "- 매력적인 상품이지만 유저에게 충분히 소구되고 있지 않다. 예를 들어 미국에서는 3가지 요금제 중 Basic이 가장 높은 지표로 나타나고 Premium 역시 인상적으로 보이지만, 이들 둘에 비해 Standard 요금제가 덜 알려져 있을 수 있다.\n",
    "\n",
    "이상의 분석을 토대로 어떤 구독 유형 상품을 집중적으로 포커싱해야 할지를 결정해야 할 수 있다. 지표가 낮은 상품 역시 충분히 경쟁력 있다고 생각되는 경우 유저들에게 해당 상품을 더욱 노출하여 **수익 잠재성을 끌어올리는 방향성**이 가장 유리할 것이다."
   ]
  },
  {
   "cell_type": "markdown",
   "id": "b3928046",
   "metadata": {},
   "source": [
    "브라질, 프랑스, 독일, 이탈리아, 멕시코, 영국 등에서는 특정한 구독 유형이 독보적인 추이를 보인다. 이 경우 다음과 같은 해석이 가능하다.\n",
    "\n",
    "- 1개 또는 2개의 우세한 상품 외 나머지 상품들의 유저 만족도가 매우 낮다. 사실상 버리는 상품에 가깝다고 봐도 무방할 정도로 상품에 대한 인식이 형편없다.\n",
    "\n",
    "지표가 뒤처진 상품의 경우 특정한 이유로 이미 유저들에 의해 배제된 것이기 때문에, **가장 우세한 상품을 더욱 심화**하는 방향성이 합리적일 것이다."
   ]
  },
  {
   "cell_type": "markdown",
   "id": "a219abe7",
   "metadata": {},
   "source": [
    "## 6. 후기\n",
    "\n",
    "넷플릭스 구독 데이터를 통해 현재 세 가지 구독 플랜들 사이의 우열을 따져보고, 이를 바탕으로 각 국가 별로 현지화 전략을 어떻게 채택하면 좋을지도 생각해 보았다. 사실 이번 분석의 핵심은 **새로운 지표의 발굴**이었다. 표면적으로는 큰 차이가 드러나지 않는 데이터들 사이에서 어떤 방식으로 인사이트를 뽑아내면 좋을지를 고민했고, 그 결과 수익률과 유저 수를 이용하는 나만의 지표를 만들어 분석에 적용할 수 있었다."
   ]
  }
 ],
 "metadata": {
  "kernelspec": {
   "display_name": "Python 3 (ipykernel)",
   "language": "python",
   "name": "python3"
  },
  "language_info": {
   "codemirror_mode": {
    "name": "ipython",
    "version": 3
   },
   "file_extension": ".py",
   "mimetype": "text/x-python",
   "name": "python",
   "nbconvert_exporter": "python",
   "pygments_lexer": "ipython3",
   "version": "3.9.16"
  }
 },
 "nbformat": 4,
 "nbformat_minor": 5
}
